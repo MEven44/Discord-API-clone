{
  "nbformat": 4,
  "nbformat_minor": 0,
  "metadata": {
    "colab": {
      "provenance": [],
      "authorship_tag": "ABX9TyPs8kCkE4vENG+neH0ok8Jn",
      "include_colab_link": true
    },
    "kernelspec": {
      "name": "python3",
      "display_name": "Python 3"
    },
    "language_info": {
      "name": "python"
    }
  },
  "cells": [
    {
      "cell_type": "markdown",
      "metadata": {
        "id": "view-in-github",
        "colab_type": "text"
      },
      "source": [
        "<a href=\"https://colab.research.google.com/github/MEven44/Discord-API-clone/blob/main/PR_form.ipynb\" target=\"_parent\"><img src=\"https://colab.research.google.com/assets/colab-badge.svg\" alt=\"Open In Colab\"/></a>"
      ]
    },
    {
      "cell_type": "code",
      "execution_count": null,
      "metadata": {
        "id": "xmzb7ynm_V5H",
        "colab": {
          "base_uri": "https://localhost:8080/"
        },
        "outputId": "0d0efb4d-a148-4c45-fae1-31e9ba30114b"
      },
      "outputs": [
        {
          "metadata": {
            "tags": null
          },
          "name": "stdout",
          "output_type": "stream",
          "text": [
            "Requirement already satisfied: PySimpleGUI in /usr/local/lib/python3.10/dist-packages (4.60.5)\n",
            "Requirement already satisfied: pandas in /usr/local/lib/python3.10/dist-packages (1.5.3)\n",
            "Requirement already satisfied: python-dateutil>=2.8.1 in /usr/local/lib/python3.10/dist-packages (from pandas) (2.8.2)\n",
            "Requirement already satisfied: pytz>=2020.1 in /usr/local/lib/python3.10/dist-packages (from pandas) (2023.4)\n",
            "Requirement already satisfied: numpy>=1.21.0 in /usr/local/lib/python3.10/dist-packages (from pandas) (1.23.5)\n",
            "Requirement already satisfied: six>=1.5 in /usr/local/lib/python3.10/dist-packages (from python-dateutil>=2.8.1->pandas) (1.16.0)\n",
            "Requirement already satisfied: openpyxl in /usr/local/lib/python3.10/dist-packages (3.1.2)\n",
            "Requirement already satisfied: et-xmlfile in /usr/local/lib/python3.10/dist-packages (from openpyxl) (1.1.0)\n",
            "Requirement already satisfied: flask in /usr/local/lib/python3.10/dist-packages (2.2.5)\n",
            "Requirement already satisfied: Werkzeug>=2.2.2 in /usr/local/lib/python3.10/dist-packages (from flask) (3.0.1)\n",
            "Requirement already satisfied: Jinja2>=3.0 in /usr/local/lib/python3.10/dist-packages (from flask) (3.1.3)\n",
            "Requirement already satisfied: itsdangerous>=2.0 in /usr/local/lib/python3.10/dist-packages (from flask) (2.1.2)\n",
            "Requirement already satisfied: click>=8.0 in /usr/local/lib/python3.10/dist-packages (from flask) (8.1.7)\n",
            "Requirement already satisfied: MarkupSafe>=2.0 in /usr/local/lib/python3.10/dist-packages (from Jinja2>=3.0->flask) (2.1.4)\n",
            " * Serving Flask app '__main__'\n",
            " * Debug mode: on\n"
          ]
        },
        {
          "metadata": {
            "tags": null
          },
          "name": "stderr",
          "output_type": "stream",
          "text": [
            "INFO:werkzeug:\u001b[31m\u001b[1mWARNING: This is a development server. Do not use it in a production deployment. Use a production WSGI server instead.\u001b[0m\n",
            " * Running on all addresses (0.0.0.0)\n",
            " * Running on http://127.0.0.1:5000\n",
            " * Running on http://172.28.0.12:5000\n",
            "INFO:werkzeug:\u001b[33mPress CTRL+C to quit\u001b[0m\n",
            "INFO:werkzeug: * Restarting with stat\n"
          ]
        }
      ],
      "source": [
        "#reference https://www.youtube.com/watch?v=svcv8uub0D0 and i forked the github\n",
        "!pip install PySimpleGUI\n",
        "!pip install pandas\n",
        "!pip install openpyxl\n",
        "!pip install flask\n",
        "!apt-get install -y xvfb\n",
        "\n",
        "!export DISPLAY=:1\n",
        "\n",
        "import PySimpleGUI as sg\n",
        "\n",
        "!jupyter notebook stop\n",
        "!jupyter notebook\n",
        "\n",
        "#you can edit other themes\n",
        "sg.theme('DarkTeal9')\n",
        "\n",
        "layout = [\n",
        "    [sg.Text('Please fill out the following fields:')],\n",
        "    [sg.Text('CTS', size=(15,1)), sg.InputText(key='CTS')],\n",
        "    [sg.Text('City', size=(15,1)), sg.InputText(key='City')],\n",
        "    [sg.Text('Favorite Colour', size=(15,1)), sg.Combo(['Green', 'Blue', 'Red'], key='Favorite Colour')],\n",
        "    [sg.Text('I speak', size=(15,1)),\n",
        "                            sg.Checkbox('German', key='German'),\n",
        "                            sg.Checkbox('Spanish', key='Spanish'),\n",
        "                            sg.Checkbox('English', key='English')],\n",
        "    [sg.Text('No. of Children', size=(15,1)), sg.Spin([i for i in range(0,16)],\n",
        "                                                       initial_value=0, key='Children')],\n",
        "    [sg.Submit(), sg.Button('Clear'), sg.Exit()]\n",
        "]\n",
        "\n",
        "window = sg.Window('PR data entry form', layout)\n",
        "\n",
        "while True:\n",
        "    event, values = window.read()\n",
        "    if event == sg.WIN_CLOSED or event == 'Exit':\n",
        "        break\n",
        "    if event == 'Submit':\n",
        "      print(event,values)\n",
        "window.close()"
      ]
    },
    {
      "cell_type": "code",
      "source": [
        "# prompt: please install a display server using flask libarary\n",
        "\n",
        "\n"
      ],
      "metadata": {
        "colab": {
          "base_uri": "https://localhost:8080/"
        },
        "id": "uuC7zc0V56pq",
        "outputId": "36f6c849-68c3-49b3-baf8-f394af1d3940"
      },
      "execution_count": null,
      "outputs": [
        {
          "output_type": "stream",
          "name": "stdout",
          "text": [
            "Object `flask` not found.\n"
          ]
        }
      ]
    }
  ]
}